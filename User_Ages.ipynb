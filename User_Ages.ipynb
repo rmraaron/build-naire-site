{
 "cells": [
  {
   "cell_type": "code",
   "execution_count": 162,
   "metadata": {},
   "outputs": [
    {
     "name": "stdout",
     "output_type": "stream",
     "text": [
      "<class 'list'>\n"
     ]
    }
   ],
   "source": [
    "\n",
    "# users.dat  UserID::Gender::Age::Occupation::Zip-code\n",
    "def age_distribution():\n",
    "    '''\n",
    "    得到每个年龄段的用户分布以及各个年龄段的用户编号列表\n",
    "    返回用户数最多的一组以及各年龄段用户编号列表\n",
    "    \n",
    "    '''\n",
    "    age_list = []\n",
    "    \n",
    "    with open('users.dat', 'r') as file:\n",
    "\n",
    "        for sen in file:\n",
    "            user = sen.split('::')\n",
    "            age = user[2]\n",
    "            age_list.append(age)  \n",
    "    \n",
    "    # 每个年龄段对应的人数总和\n",
    "    age_dict = dict.fromkeys(['1', '18', '25', '35', '45', '50', '56'], 0)\n",
    "\n",
    "    # 每个年龄段对应的用户编号list\n",
    "    age_user = dict.fromkeys(['1', '18', '25', '35', '45', '50', '56'], [])\n",
    "    \n",
    "    \n",
    "    for age in age_list:\n",
    "        \n",
    "        for key, value in age_dict.items():\n",
    "            #print(age, key)\n",
    "            if key == age:\n",
    "                #print(value)\n",
    "                value += 1\n",
    "                dict_up = {key:value}\n",
    "                age_dict.update(dict_up)\n",
    "\n",
    "    \n",
    "    for key, value in age_user.items():\n",
    "      \n",
    "        # 记录用户id\n",
    "        i = 0\n",
    "        value = []\n",
    "        for age in age_list:\n",
    "            i += 1\n",
    "            if key == age:\n",
    "                value.append(i)\n",
    "                dict_up = {key:value}\n",
    "                age_user.update(dict_up)   \n",
    "    \n",
    "    # 找出users中人数最多的年龄段\n",
    "    max_group_num = max(age_dict, key = age_dict.get)\n",
    "    \n",
    "    return max_group_num, age_user\n",
    "\n",
    "\n",
    "\n",
    "# [('1', 222), ('18', 1103), ('25', 2096), ('35', 1193), ('45', 550), ('50', 496), ('56', 380)]\n",
    "# ratings.dat UserID::MovieID::Rating::Timestamp\n",
    "\n",
    "def get_MaxGroup_Interest():\n",
    "    max_group_num, age_user = age_distribution()\n",
    "    max_group_list = []\n",
    "    \n",
    "    # 返回人数最多年龄段组的全部用户编号\n",
    "    for key, value in age_user.items():\n",
    "        if key == max_group_num:\n",
    "            max_group_list = value\n",
    "            \n",
    "    \n",
    "    file = open('ratings.dat')\n",
    "    \n",
    "        \n",
    "    \n",
    "#age_distribution()\n",
    "get_MaxGroup_Interest()        \n",
    "\n",
    "\n"
   ]
  },
  {
   "cell_type": "code",
   "execution_count": null,
   "metadata": {},
   "outputs": [],
   "source": [
    "\n"
   ]
  },
  {
   "cell_type": "code",
   "execution_count": null,
   "metadata": {},
   "outputs": [],
   "source": []
  }
 ],
 "metadata": {
  "kernelspec": {
   "display_name": "Python 3",
   "language": "python",
   "name": "python3"
  },
  "language_info": {
   "codemirror_mode": {
    "name": "ipython",
    "version": 3
   },
   "file_extension": ".py",
   "mimetype": "text/x-python",
   "name": "python",
   "nbconvert_exporter": "python",
   "pygments_lexer": "ipython3",
   "version": "3.5.0"
  }
 },
 "nbformat": 4,
 "nbformat_minor": 2
}
